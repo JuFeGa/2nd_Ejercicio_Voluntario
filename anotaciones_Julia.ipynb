{
  "nbformat": 4,
  "nbformat_minor": 0,
  "metadata": {
    "colab": {
      "name": "Untitled0.ipynb",
      "provenance": [],
      "authorship_tag": "ABX9TyOufiW3ovPtaXT3HPDxtrLt",
      "include_colab_link": true
    },
    "kernelspec": {
      "name": "python3",
      "display_name": "Python 3"
    },
    "language_info": {
      "name": "python"
    }
  },
  "cells": [
    {
      "cell_type": "markdown",
      "metadata": {
        "id": "view-in-github",
        "colab_type": "text"
      },
      "source": [
        "<a href=\"https://colab.research.google.com/github/JuFeGa/2nd_Ejercicio_Voluntario/blob/main/anotaciones_Julia.ipynb\" target=\"_parent\"><img src=\"https://colab.research.google.com/assets/colab-badge.svg\" alt=\"Open In Colab\"/></a>"
      ]
    },
    {
      "cell_type": "markdown",
      "metadata": {
        "id": "wrBUp6uD_yD_"
      },
      "source": [
        "* Se debe cargar el database.\n",
        "* Luego se debe limpiar los datos y dejar preparado para trabajar con ellos.\n",
        "* Si hay variables string hay que hacerlas dummies.\n",
        "* Se analizan los descriptivos del dataset para comprobar que no hay cosas raras.\n",
        "* se hace una comprobacion de correlacion para no tener variables duplicadas.\n",
        "* se separa las caracteristicas (X) y el Objetivo (Y)\n",
        "* se plotean para tener una primera imagen de su comportamiento. \n",
        "* "
      ]
    },
    {
      "cell_type": "markdown",
      "metadata": {
        "id": "RlvxNJLX_yeN"
      },
      "source": [
        ""
      ]
    }
  ]
}